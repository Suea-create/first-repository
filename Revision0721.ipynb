{
 "cells": [
  {
   "cell_type": "code",
   "execution_count": 2,
   "id": "2733810d-4002-4e10-93ea-a0abd578d0c4",
   "metadata": {},
   "outputs": [
    {
     "name": "stdin",
     "output_type": "stream",
     "text": [
      "도형을 선택하세요 (1. 평행사변형: 1 / 사다리꼴: 2):  2\n"
     ]
    },
    {
     "name": "stdout",
     "output_type": "stream",
     "text": [
      "사다리꼴 함수는 trape()입니다.\n"
     ]
    },
    {
     "name": "stdin",
     "output_type": "stream",
     "text": [
      "윗변, 아랫변, 높이를 입력하세요 (예: 10, 20, 30)\n",
      ">>>  10,20,30\n"
     ]
    },
    {
     "name": "stdout",
     "output_type": "stream",
     "text": [
      "사다리꼴의 넓이는: 450.0\n"
     ]
    }
   ],
   "source": [
    "class Square:\n",
    "    def __init__(self):\n",
    "        try:\n",
    "            self.square = int(input(\"도형을 선택하세요 (1. 평행사변형: 1 / 사다리꼴: 2): \"))\n",
    "            if self.square == 1:\n",
    "                print('평행사변형 함수는 par()입니다.')\n",
    "            elif self.square == 2:\n",
    "                print('사다리꼴 함수는 trape()입니다.')\n",
    "            else:\n",
    "                print('1 또는 2만 입력해주세요.')\n",
    "                self.square = None\n",
    "        except ValueError:\n",
    "            print('숫자만 입력해주세요.')\n",
    "            self.square = None\n",
    "\n",
    "    def par(self):\n",
    "        try:\n",
    "            width, height = map(int, input('가로, 높이를 입력하세요 (예: 10, 5)\\n>>> ').split(','))\n",
    "            area = width * height\n",
    "            return f'평행사변형의 넓이는: {area}'\n",
    "        except:\n",
    "            return '입력 형식이 잘못되었습니다. 예: 10, 20'\n",
    "\n",
    "    def trape(self):\n",
    "        try:\n",
    "            top, bottom, height = map(int, input('윗변, 아랫변, 높이를 입력하세요 (예: 10, 20, 30)\\n>>> ').split(','))\n",
    "            area = (top + bottom) * height / 2\n",
    "            return f\"사다리꼴의 넓이는: {area}\"\n",
    "        except:\n",
    "            return '입력 형식이 잘못되었습니다. 예: 10, 20, 30'\n",
    "\n",
    "a = Square()\n",
    "\n",
    "if a.square == 1:\n",
    "    print(a.par())\n",
    "elif a.square == 2:\n",
    "    print(a.trape())\n"
   ]
  },
  {
   "cell_type": "code",
   "execution_count": 9,
   "id": "85da6f94-5e76-4675-beb2-73b8e102ed95",
   "metadata": {
    "scrolled": true
   },
   "outputs": [
    {
     "name": "stdout",
     "output_type": "stream",
     "text": [
      "\n",
      "메뉴판\n",
      "1. americano: 2000원\n",
      "2. latte: 3000원\n",
      "3. mocha: 3000원\n",
      "4. yuza_tea: 2500원\n",
      "5. green_tea: 2500원\n",
      "6. choco_latte: 3000원\n"
     ]
    },
    {
     "name": "stdin",
     "output_type": "stream",
     "text": [
      "\n",
      " 음료 번호를 입력하세요 (지불은 0):  1\n",
      "HOT = 1, ICE = 2 입력:  2\n"
     ]
    },
    {
     "name": "stdout",
     "output_type": "stream",
     "text": [
      "주문: ICE americano - 2000원\n",
      "합계: 2000원\n",
      "\n",
      "\n",
      "메뉴판\n",
      "1. americano: 2000원\n",
      "2. latte: 3000원\n",
      "3. mocha: 3000원\n",
      "4. yuza_tea: 2500원\n",
      "5. green_tea: 2500원\n",
      "6. choco_latte: 3000원\n"
     ]
    },
    {
     "name": "stdin",
     "output_type": "stream",
     "text": [
      "\n",
      " 음료 번호를 입력하세요 (지불은 0):  0\n"
     ]
    },
    {
     "name": "stdout",
     "output_type": "stream",
     "text": [
      "\n",
      "주문이 완료되었습니다!\n",
      "ICE americano: 2000원\n",
      "총 결제 금액: 2000원\n"
     ]
    }
   ],
   "source": [
    "class Kiosk:\n",
    "    def __init__(self):\n",
    "        self.menu = [['americano', 2000],['latte', 3000],['mocha', 3000],['yuza_tea', 2500],['green_tea', 2500],['choco_latte', 3000]]      \n",
    "        self.temp = \"\"\n",
    "        self.order_menu = []\n",
    "        self.order_price = []\n",
    "        self.price_sum = 0\n",
    "\n",
    "    def menu_print(self):\n",
    "        print(\"\\n메뉴판\")\n",
    "        for i, item in enumerate(self.menu, start=1):\n",
    "            print(f\"{i}. {item[0]}: {item[1]}원\")\n",
    "\n",
    "    def menu_select(self):\n",
    "        while True:\n",
    "            self.menu_print()\n",
    "            try:\n",
    "                n = int(input(\"\\n 음료 번호를 입력하세요 (지불은 0): \"))\n",
    "                if n == 0:\n",
    "                    break\n",
    "                if 1 <= n <= len(self.menu):\n",
    "                    name, price = self.menu[n - 1]\n",
    "                    self.order_price.append(price)\n",
    "                    self.price_sum += price\n",
    "\n",
    "                    t = 0\n",
    "                    while t not in [1, 2]:\n",
    "                        t = int(input(\"HOT = 1, ICE = 2 입력: \"))\n",
    "                        if t == 1:\n",
    "                            self.temp = \"HOT\"\n",
    "                        elif t == 2:\n",
    "                            self.temp = \"ICE\"\n",
    "                        else:\n",
    "                            print(\"1 또는 2만 입력하세요.\")\n",
    "\n",
    "                    full_name = f\"{self.temp} {name}\"\n",
    "                    self.order_menu.append(full_name)\n",
    "                    print(f\"주문: {full_name} - {price}원\")\n",
    "                    print(f\"합계: {self.price_sum}원\\n\")\n",
    "                else:\n",
    "                    print(\"없는 메뉴입니다.\")\n",
    "            except ValueError:\n",
    "                print(\"숫자만 입력해주세요.\")\n",
    "       \n",
    "        print(\"\\n주문이 완료되었습니다!\")\n",
    "        for item, price in zip(self.order_menu, self.order_price):\n",
    "            print(f\"{item}: {price}원\")\n",
    "        print(f\"총 결제 금액: {self.price_sum}원\")\n",
    "\n",
    "k = Kiosk()\n",
    "k.menu_select()\n"
   ]
  },
  {
   "cell_type": "code",
   "execution_count": 13,
   "id": "a39a43de-c41a-428d-9dde-9b722e040693",
   "metadata": {},
   "outputs": [
    {
     "name": "stdout",
     "output_type": "stream",
     "text": [
      "\n",
      "메뉴판\n",
      "1. americano: 2000원\n",
      "2. latte: 3000원\n",
      "3. mocha: 3000원\n",
      "4. yuza_tea: 2500원\n",
      "5. green_tea: 2500원\n",
      "6. choco_latte: 3000원\n"
     ]
    },
    {
     "name": "stdin",
     "output_type": "stream",
     "text": [
      "\n",
      " 음료 번호를 입력하세요 (지불은 0):  1\n",
      "HOT = 1, ICE = 2 입력:  1\n"
     ]
    },
    {
     "name": "stdout",
     "output_type": "stream",
     "text": [
      "주문: HOT americano - 2000원\n",
      "합계: 2000원\n",
      "\n",
      "\n",
      "메뉴판\n",
      "1. americano: 2000원\n",
      "2. latte: 3000원\n",
      "3. mocha: 3000원\n",
      "4. yuza_tea: 2500원\n",
      "5. green_tea: 2500원\n",
      "6. choco_latte: 3000원\n"
     ]
    },
    {
     "name": "stdin",
     "output_type": "stream",
     "text": [
      "\n",
      " 음료 번호를 입력하세요 (지불은 0):  0\n"
     ]
    },
    {
     "name": "stdout",
     "output_type": "stream",
     "text": [
      "\n",
      "주문이 완료되었습니다!\n",
      "HOT americano: 2000원\n",
      "총 결제 금액: 2000원\n",
      "ㅡ------------------------------ㅡ\n",
      "주문표\n",
      "HOT americano        : 2000원\n",
      "------------------------------\n",
      "총합계                  : 2000원\n",
      "ㅡ------------------------------ㅡ\n"
     ]
    },
    {
     "name": "stdin",
     "output_type": "stream",
     "text": [
      "결제 수단을 입력하세요. (cash / card 또는 1 / 2):  2\n"
     ]
    },
    {
     "name": "stdout",
     "output_type": "stream",
     "text": [
      "IC칩 방향에 맞게 카드를 꽂아주세요.\n"
     ]
    }
   ],
   "source": [
    "class Kiosk:\n",
    "    def __init__(self):\n",
    "        self.menu = [['americano', 2000],['latte', 3000],['mocha', 3000],['yuza_tea', 2500],['green_tea', 2500],['choco_latte', 3000]]      \n",
    "        self.temp = \"\"\n",
    "        self.order_menu = []\n",
    "        self.order_price = []\n",
    "        self.price_sum = 0\n",
    "\n",
    "    def menu_print(self):\n",
    "        print(\"\\n메뉴판\")\n",
    "        for i, item in enumerate(self.menu, start=1):\n",
    "            print(f\"{i}. {item[0]}: {item[1]}원\")\n",
    "\n",
    "    def menu_select(self):\n",
    "        while True:\n",
    "            self.menu_print()\n",
    "            try:\n",
    "                n = int(input(\"\\n 음료 번호를 입력하세요 (지불은 0): \"))\n",
    "                if n == 0:\n",
    "                    break\n",
    "                if 1 <= n <= len(self.menu):\n",
    "                    name, price = self.menu[n - 1]\n",
    "                    self.order_price.append(price)\n",
    "                    self.price_sum += price\n",
    "\n",
    "                    t = 0\n",
    "                    while t not in [1, 2]:\n",
    "                        t = int(input(\"HOT = 1, ICE = 2 입력: \"))\n",
    "                        if t == 1:\n",
    "                            self.temp = \"HOT\"\n",
    "                        elif t == 2:\n",
    "                            self.temp = \"ICE\"\n",
    "                        else:\n",
    "                            print(\"1 또는 2만 입력하세요.\")\n",
    "\n",
    "                    full_name = f\"{self.temp} {name}\"\n",
    "                    self.order_menu.append(full_name)\n",
    "                    print(f\"주문: {full_name} - {price}원\")\n",
    "                    print(f\"합계: {self.price_sum}원\\n\")\n",
    "                else:\n",
    "                    print(\"없는 메뉴입니다.\")\n",
    "            except ValueError:\n",
    "                print(\"숫자만 입력해주세요.\")\n",
    "       \n",
    "        print(\"\\n주문이 완료되었습니다!\")\n",
    "        for item, price in zip(self.order_menu, self.order_price):\n",
    "            print(f\"{item}: {price}원\")\n",
    "        print(f\"총 결제 금액: {self.price_sum}원\")\n",
    "\n",
    "    def pay(self):\n",
    "        method = input(\"결제 수단을 입력하세요. (cash / card 또는 1 / 2): \").lower()\n",
    "        if method in ['cash', '1']:\n",
    "            print('직원을 호출하겠습니다.')\n",
    "        elif method in ['card', '2']:\n",
    "            print('IC칩 방향에 맞게 카드를 꽂아주세요.')\n",
    "        else:\n",
    "            print('다시 결제를 시도해 주세요.')\n",
    "  \n",
    "    def frame_decorator(func):\n",
    "        def wrapper(self):\n",
    "            print(\"ㅡ\" + \"-\" * 30 + \"ㅡ\")\n",
    "            func(self)\n",
    "            print(\"ㅡ\" + \"-\" * 30 + \"ㅡ\")\n",
    "        return wrapper\n",
    "\n",
    "    @frame_decorator\n",
    "    def table(self):\n",
    "        print(\"주문표\")\n",
    "        for i in range(len(self.order_menu)):\n",
    "            print(f\"{self.order_menu[i]:<20} : {self.order_price[i]}원\")\n",
    "        print(\"-\" * 30)\n",
    "        print(f\"{'총합계':<20} : {self.price_sum}원\")\n",
    "        \n",
    "k = Kiosk()\n",
    "k.menu_select()\n",
    "k.table()\n",
    "k.pay()"
   ]
  },
  {
   "cell_type": "code",
   "execution_count": null,
   "id": "ee471553-7091-4666-a0dd-dc8c5556897a",
   "metadata": {},
   "outputs": [],
   "source": []
  }
 ],
 "metadata": {
  "kernelspec": {
   "display_name": "Python 3 (ipykernel)",
   "language": "python",
   "name": "python3"
  },
  "language_info": {
   "codemirror_mode": {
    "name": "ipython",
    "version": 3
   },
   "file_extension": ".py",
   "mimetype": "text/x-python",
   "name": "python",
   "nbconvert_exporter": "python",
   "pygments_lexer": "ipython3",
   "version": "3.13.5"
  }
 },
 "nbformat": 4,
 "nbformat_minor": 5
}
