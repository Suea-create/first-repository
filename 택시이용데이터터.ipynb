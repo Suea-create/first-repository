{
 "cells": [
  {
   "cell_type": "code",
   "execution_count": 3,
   "id": "e80052dd-257e-43a7-a5ed-0716647cb90a",
   "metadata": {},
   "outputs": [
    {
     "name": "stdout",
     "output_type": "stream",
     "text": [
      "   ride_id         pickup_time        dropoff_time  distance_km      fare  \\\n",
      "0     2901 2025-07-29 06:10:00 2025-07-29 06:25:00          3.5    8500.0   \n",
      "1     2902 2025-07-29 07:30:00 2025-07-29 08:15:00          8.1   22000.0   \n",
      "2     2903 2025-07-29 08:30:00 2025-07-29 09:00:00          7.3    4500.0   \n",
      "3     2904                 NaT 2025-07-29 09:45:00         10.5       NaN   \n",
      "4     2905 2025-07-29 09:05:00                 NaT          9.0    8000.0   \n",
      "5     2906 2025-07-29 10:50:00 2025-07-29 11:10:00         10.0  200000.0   \n",
      "6     2907 2025-07-29 12:20:00 2025-07-29 12:50:00          6.7    9500.0   \n",
      "\n",
      "  payment_type  \n",
      "0  Credit Card  \n",
      "1   Debit Card  \n",
      "2  Credit Card  \n",
      "3  Credit Card  \n",
      "4   Debit Card  \n",
      "5  Credit Card  \n",
      "6  Credit Card  \n"
     ]
    }
   ],
   "source": [
    "import pandas as pd\n",
    "import numpy as np\n",
    "import matplotlib.pyplot as plt\n",
    "import seaborn as sns\n",
    "\n",
    "data = {'ride_id': [2901, 2902, 2903, 2904, 2905, 2906, 2907],\n",
    "        'pickup_time': ['2025-07-29 06:10', '2025-07-29 07:30', '2025-07-29 08:30', np.nan, '2025-07-29 09:05', '2025-07-29 10:50', '2025-07-29 12:20'],\n",
    "        'dropoff_time': ['2025-07-29 06:25', '2025-07-29 08:15', '2025-07-29 09:00', '2025-07-29 09:45', np.nan, '2025-07-29 11:10', '2025-07-29 12:50'],\n",
    "        'distance_km': [3.5, 8.1, 7.3, 10.5, 9.0, 10.0, 6.7],\n",
    "        'fare': [8500, 22000, 4500, np.nan, 8000, 200000, 9500],\n",
    "        'payment_type': ['Credit Card', 'Debit Card', 'Credit Card', 'Credit Card', 'Debit Card', 'Credit Card', 'Credit Card']}\n",
    "\n",
    "df = pd.DataFrame(data)\n",
    "df['pickup_time'] = pd.to_datetime(df['pickup_time'], errors='coerce')\n",
    "df['dropoff_time'] = pd.to_datetime(df['dropoff_time'], errors='coerce')\n",
    "\n",
    "print(df)"
   ]
  },
  {
   "cell_type": "code",
   "execution_count": 6,
   "id": "c5423585-b039-4c25-ae37-569eb2e87b85",
   "metadata": {},
   "outputs": [
    {
     "name": "stdout",
     "output_type": "stream",
     "text": [
      "결측치 비울: \n",
      " ride_id          0.0\n",
      "pickup_time     14.0\n",
      "dropoff_time    14.0\n",
      "distance_km      0.0\n",
      "fare            14.0\n",
      "payment_type     0.0\n",
      "dtype: float64\n"
     ]
    }
   ],
   "source": [
    "print(\"결측치 비울: \\n\", df.isna().mean().round(2)*100)"
   ]
  },
  {
   "cell_type": "code",
   "execution_count": 20,
   "id": "ac069248-a368-4d66-9dae-7a013db7969a",
   "metadata": {},
   "outputs": [
    {
     "name": "stdout",
     "output_type": "stream",
     "text": [
      "결측치 비울: \n",
      " ride_id          0.0\n",
      "pickup_time     14.0\n",
      "dropoff_time    14.0\n",
      "distance_km      0.0\n",
      "fare            14.0\n",
      "payment_type     0.0\n",
      "dtype: float64\n",
      "   ride_id         pickup_time        dropoff_time  trip_duration_min  \\\n",
      "0     2901 2025-07-29 06:10:00 2025-07-29 06:25:00               15.0   \n",
      "1     2902 2025-07-29 07:30:00 2025-07-29 08:15:00               45.0   \n",
      "2     2903 2025-07-29 08:30:00 2025-07-29 09:00:00               30.0   \n",
      "6     2907 2025-07-29 12:20:00 2025-07-29 12:50:00               30.0   \n",
      "\n",
      "   distance_km     fare payment_type  \n",
      "0          3.5   8500.0         Card  \n",
      "1          8.1  22000.0         Card  \n",
      "2          7.3   4500.0         Card  \n",
      "6          6.7   9500.0         Card  \n"
     ]
    },
    {
     "data": {
      "image/png": "[encoded data removed]",
      "text/plain": [
       "<Figure size 500x300 with 1 Axes>"
      ]
     },
     "metadata": {},
     "output_type": "display_data"
    }
   ],
   "source": [
    "import pandas as pd\n",
    "import numpy as np\n",
    "import matplotlib.pyplot as plt\n",
    "import matplotlib.font_manager as fm\n",
    "import seaborn as sns\n",
    "\n",
    "data = {'ride_id': [2901, 2902, 2903, 2904, 2905, 2906, 2907],\n",
    "        'pickup_time': ['2025-07-29 06:10', '2025-07-29 07:30', '2025-07-29 08:30', np.nan, '2025-07-29 09:05', '2025-07-29 10:50', '2025-07-29 12:20'],\n",
    "        'dropoff_time': ['2025-07-29 06:25', '2025-07-29 08:15', '2025-07-29 09:00', '2025-07-29 09:45', np.nan, '2025-07-29 11:10', '2025-07-29 12:50'],\n",
    "        'distance_km': [3.5, 8.1, 7.3, 10.5, 9.0, 10.0, 6.7],\n",
    "        'fare': [8500, 22000, 4500, np.nan, 8000, 200000, 9500],\n",
    "        'payment_type': ['Credit Card', 'Debit Card', 'Credit Card', 'Credit Card', 'Debit Card', 'Credit Card', 'Credit Card']}\n",
    "\n",
    "df = pd.DataFrame(data)\n",
    "df['pickup_time'] = pd.to_datetime(df['pickup_time'], errors='coerce')\n",
    "df['dropoff_time'] = pd.to_datetime(df['dropoff_time'], errors='coerce')\n",
    "\n",
    "print(\"결측치 비울: \\n\", df.isna().mean().round(2)*100)\n",
    "df['fare'] = df['fare'].fillna(df['fare'].median())\n",
    "df = df.dropna(subset=['pickup_time', 'dropoff_time'])\n",
    "\n",
    "df['trip_duration_min'] = (df['dropoff_time']-df['pickup_time']).dt.total_seconds()/60\n",
    "\n",
    "df = df[(df['distance_km'] < 100) & (df['fare'] < 100000)]\n",
    "\n",
    "df['payment_type'] = df['payment_type'].replace({'Credit Card':'Card', 'Debit Card' : 'Card'}) \n",
    "\n",
    "df_cleaned = df[['ride_id', 'pickup_time', 'dropoff_time', 'trip_duration_min', 'distance_km', 'fare', 'payment_type']]\n",
    "print(df_cleaned)\n",
    "\n",
    "plt.rcParams['font.family'] = 'Malgun Gothic'\n",
    "plt.rcParams['axes.unicode_minus'] = False\n",
    "\n",
    "plt.figure(figsize=(5, 3))\n",
    "sns.scatterplot(data=df_cleaned, x='distance_km',y='fare')          \n",
    "plt.title('주행 거리 vs 요금 ')\n",
    "plt.xlabel('주행 거리 (km)')\n",
    "plt.ylabel('요금 (원)')\n",
    "plt.grid(True)\n",
    "plt.tight_layout()\n",
    "plt.show()"
   ]
  },
  {
   "cell_type": "code",
   "execution_count": null,
   "id": "0929b90a-63dc-4665-985a-0fc9d8e57265",
   "metadata": {},
   "outputs": [],
   "source": []
  }
 ],
 "metadata": {
  "kernelspec": {
   "display_name": "Python 3 (ipykernel)",
   "language": "python",
   "name": "python3"
  },
  "language_info": {
   "codemirror_mode": {
    "name": "ipython",
    "version": 3
   },
   "file_extension": ".py",
   "mimetype": "text/x-python",
   "name": "python",
   "nbconvert_exporter": "python",
   "pygments_lexer": "ipython3",
   "version": "3.13.5"
  }
 },
 "nbformat": 4,
 "nbformat_minor": 5
}
